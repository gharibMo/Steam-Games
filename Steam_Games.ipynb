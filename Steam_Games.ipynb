{
 "cells": [
  {
   "cell_type": "markdown",
   "id": "bf613d12",
   "metadata": {},
   "source": [
    "### Steam_Games"
   ]
  },
  {
   "cell_type": "code",
   "execution_count": 81,
   "id": "a75dbeb1",
   "metadata": {},
   "outputs": [],
   "source": [
    "import pandas as pd \n",
    "import numpy as np\n",
    "import seaborn as sns \n",
    "import matplotlib.pyplot as plt\n",
    "plt.rcParams['figure.figsize'] = (25.0, 15.0)"
   ]
  },
  {
   "cell_type": "code",
   "execution_count": 265,
   "id": "a0642323",
   "metadata": {},
   "outputs": [],
   "source": [
    "# funzione usate \n",
    "\n",
    "def remove_duplicates(l):\n",
    "    seen = {}\n",
    "    res = []\n",
    "    for item in l:\n",
    "        if item not in seen:\n",
    "            seen[item] = 1\n",
    "            res.append(item)\n",
    "    return res\n",
    "\n",
    "def compare(list1, list2):\n",
    "    result=[]\n",
    "    for element in list1: \n",
    "        if (element in list2):\n",
    "            i= 1  \n",
    "        else:\n",
    "            result.append(element)      \n",
    "    return result"
   ]
  },
  {
   "cell_type": "code",
   "execution_count": 252,
   "id": "7bd2c722",
   "metadata": {},
   "outputs": [
    {
     "data": {
      "text/html": [
       "<div>\n",
       "<style scoped>\n",
       "    .dataframe tbody tr th:only-of-type {\n",
       "        vertical-align: middle;\n",
       "    }\n",
       "\n",
       "    .dataframe tbody tr th {\n",
       "        vertical-align: top;\n",
       "    }\n",
       "\n",
       "    .dataframe thead th {\n",
       "        text-align: right;\n",
       "    }\n",
       "</style>\n",
       "<table border=\"1\" class=\"dataframe\">\n",
       "  <thead>\n",
       "    <tr style=\"text-align: right;\">\n",
       "      <th></th>\n",
       "      <th>UserID</th>\n",
       "      <th>Games</th>\n",
       "      <th>Action</th>\n",
       "      <th>Hours</th>\n",
       "      <th>Others</th>\n",
       "    </tr>\n",
       "  </thead>\n",
       "  <tbody>\n",
       "    <tr>\n",
       "      <th>0</th>\n",
       "      <td>151603712</td>\n",
       "      <td>The Elder Scrolls V Skyrim</td>\n",
       "      <td>purchase</td>\n",
       "      <td>1.0</td>\n",
       "      <td>0</td>\n",
       "    </tr>\n",
       "    <tr>\n",
       "      <th>1</th>\n",
       "      <td>151603712</td>\n",
       "      <td>The Elder Scrolls V Skyrim</td>\n",
       "      <td>play</td>\n",
       "      <td>273.0</td>\n",
       "      <td>0</td>\n",
       "    </tr>\n",
       "    <tr>\n",
       "      <th>2</th>\n",
       "      <td>151603712</td>\n",
       "      <td>Fallout 4</td>\n",
       "      <td>purchase</td>\n",
       "      <td>1.0</td>\n",
       "      <td>0</td>\n",
       "    </tr>\n",
       "    <tr>\n",
       "      <th>3</th>\n",
       "      <td>151603712</td>\n",
       "      <td>Fallout 4</td>\n",
       "      <td>play</td>\n",
       "      <td>87.0</td>\n",
       "      <td>0</td>\n",
       "    </tr>\n",
       "    <tr>\n",
       "      <th>4</th>\n",
       "      <td>151603712</td>\n",
       "      <td>Spore</td>\n",
       "      <td>purchase</td>\n",
       "      <td>1.0</td>\n",
       "      <td>0</td>\n",
       "    </tr>\n",
       "  </tbody>\n",
       "</table>\n",
       "</div>"
      ],
      "text/plain": [
       "      UserID                       Games    Action  Hours  Others\n",
       "0  151603712  The Elder Scrolls V Skyrim  purchase    1.0       0\n",
       "1  151603712  The Elder Scrolls V Skyrim      play  273.0       0\n",
       "2  151603712                   Fallout 4  purchase    1.0       0\n",
       "3  151603712                   Fallout 4      play   87.0       0\n",
       "4  151603712                       Spore  purchase    1.0       0"
      ]
     },
     "execution_count": 252,
     "metadata": {},
     "output_type": "execute_result"
    }
   ],
   "source": [
    "df = pd.read_csv('steam200k.csv',header=None,names=['UserID','Games','Action','Hours','Others'])\n",
    "df.head()"
   ]
  },
  {
   "cell_type": "markdown",
   "id": "1fa3bca2",
   "metadata": {},
   "source": [
    "### Analys"
   ]
  },
  {
   "cell_type": "code",
   "execution_count": 253,
   "id": "21a86daf",
   "metadata": {},
   "outputs": [
    {
     "data": {
      "text/plain": [
       "UserID    0\n",
       "Games     0\n",
       "Action    0\n",
       "Hours     0\n",
       "Others    0\n",
       "dtype: int64"
      ]
     },
     "execution_count": 253,
     "metadata": {},
     "output_type": "execute_result"
    }
   ],
   "source": [
    "df.isnull().sum()"
   ]
  },
  {
   "cell_type": "code",
   "execution_count": 254,
   "id": "87ff6d3d",
   "metadata": {},
   "outputs": [
    {
     "data": {
      "text/plain": [
       "707"
      ]
     },
     "execution_count": 254,
     "metadata": {},
     "output_type": "execute_result"
    }
   ],
   "source": [
    "df.duplicated().sum()"
   ]
  },
  {
   "cell_type": "code",
   "execution_count": 255,
   "id": "58758ccc",
   "metadata": {},
   "outputs": [],
   "source": [
    "df=df.drop_duplicates()"
   ]
  },
  {
   "cell_type": "code",
   "execution_count": 256,
   "id": "b5cbb5c6",
   "metadata": {},
   "outputs": [
    {
     "data": {
      "text/plain": [
       "0"
      ]
     },
     "execution_count": 256,
     "metadata": {},
     "output_type": "execute_result"
    }
   ],
   "source": [
    "df.duplicated().sum()"
   ]
  },
  {
   "cell_type": "code",
   "execution_count": 257,
   "id": "46fbbcd0",
   "metadata": {},
   "outputs": [
    {
     "data": {
      "text/html": [
       "<div>\n",
       "<style scoped>\n",
       "    .dataframe tbody tr th:only-of-type {\n",
       "        vertical-align: middle;\n",
       "    }\n",
       "\n",
       "    .dataframe tbody tr th {\n",
       "        vertical-align: top;\n",
       "    }\n",
       "\n",
       "    .dataframe thead th {\n",
       "        text-align: right;\n",
       "    }\n",
       "</style>\n",
       "<table border=\"1\" class=\"dataframe\">\n",
       "  <thead>\n",
       "    <tr style=\"text-align: right;\">\n",
       "      <th></th>\n",
       "      <th>UserID</th>\n",
       "      <th>Hours</th>\n",
       "      <th>Others</th>\n",
       "    </tr>\n",
       "  </thead>\n",
       "  <tbody>\n",
       "    <tr>\n",
       "      <th>count</th>\n",
       "      <td>1.992930e+05</td>\n",
       "      <td>199293.000000</td>\n",
       "      <td>199293.0</td>\n",
       "    </tr>\n",
       "    <tr>\n",
       "      <th>mean</th>\n",
       "      <td>1.037181e+08</td>\n",
       "      <td>17.934247</td>\n",
       "      <td>0.0</td>\n",
       "    </tr>\n",
       "    <tr>\n",
       "      <th>std</th>\n",
       "      <td>7.212048e+07</td>\n",
       "      <td>138.297952</td>\n",
       "      <td>0.0</td>\n",
       "    </tr>\n",
       "    <tr>\n",
       "      <th>min</th>\n",
       "      <td>5.250000e+03</td>\n",
       "      <td>0.100000</td>\n",
       "      <td>0.0</td>\n",
       "    </tr>\n",
       "    <tr>\n",
       "      <th>25%</th>\n",
       "      <td>4.738430e+07</td>\n",
       "      <td>1.000000</td>\n",
       "      <td>0.0</td>\n",
       "    </tr>\n",
       "    <tr>\n",
       "      <th>50%</th>\n",
       "      <td>8.691201e+07</td>\n",
       "      <td>1.000000</td>\n",
       "      <td>0.0</td>\n",
       "    </tr>\n",
       "    <tr>\n",
       "      <th>75%</th>\n",
       "      <td>1.542309e+08</td>\n",
       "      <td>1.400000</td>\n",
       "      <td>0.0</td>\n",
       "    </tr>\n",
       "    <tr>\n",
       "      <th>max</th>\n",
       "      <td>3.099031e+08</td>\n",
       "      <td>11754.000000</td>\n",
       "      <td>0.0</td>\n",
       "    </tr>\n",
       "  </tbody>\n",
       "</table>\n",
       "</div>"
      ],
      "text/plain": [
       "             UserID          Hours    Others\n",
       "count  1.992930e+05  199293.000000  199293.0\n",
       "mean   1.037181e+08      17.934247       0.0\n",
       "std    7.212048e+07     138.297952       0.0\n",
       "min    5.250000e+03       0.100000       0.0\n",
       "25%    4.738430e+07       1.000000       0.0\n",
       "50%    8.691201e+07       1.000000       0.0\n",
       "75%    1.542309e+08       1.400000       0.0\n",
       "max    3.099031e+08   11754.000000       0.0"
      ]
     },
     "execution_count": 257,
     "metadata": {},
     "output_type": "execute_result"
    }
   ],
   "source": [
    "df.describe()"
   ]
  },
  {
   "cell_type": "code",
   "execution_count": 10,
   "id": "e6cf0de4",
   "metadata": {},
   "outputs": [],
   "source": [
    "# classifica i giochi \n",
    "\n",
    "gamers= df.UserID.unique()\n",
    "\n",
    "for g in gamers:\n",
    "    mask_gamer=df['UserID']==g\n",
    "    df_gamer=df[mask_gamer]\n",
    "    df_gamer=df_gamer.groupby(df_gamer.Games)['Hours'].sum().sort_values(ascending= False)\n",
    "    df_gamer=df_gamer.to_frame()\n",
    "    df_gamer=df_gamer.reset_index()\n",
    "    df_gamer['classifica']=df_gamer.index +1 \n",
    "    games_user = df_gamer.Games.unique()\n",
    "    for g_user in games_user:\n",
    "        mask_2= ((df['UserID']== g) & (df['Games']== g_user))\n",
    "        mask_3= df_gamer['Games']==g_user\n",
    "        val=df_gamer[mask_3]['classifica']\n",
    "        df.loc[mask_2,'PersonalOrder']= val.iloc[0]\n",
    "        "
   ]
  },
  {
   "cell_type": "code",
   "execution_count": 15,
   "id": "6678e764",
   "metadata": {},
   "outputs": [],
   "source": [
    "#df.to_csv('PersonalOrder.csv',index= False)"
   ]
  },
  {
   "cell_type": "code",
   "execution_count": 16,
   "id": "efe535b6",
   "metadata": {},
   "outputs": [],
   "source": [
    "# per calcolare il like \n",
    "\n",
    "for g in gamers: \n",
    "    mask_gamer=df['UserID']== g\n",
    "    df_gamer=df[mask_gamer]\n",
    "    param = df_gamer['Hours'].mean()\n",
    "    games_user = df_gamer.Games.unique()\n",
    "    for g_user in games_user:\n",
    "        mask_2= ((df['UserID']== g) & (df['Games']== g_user))\n",
    "        mask_3= df_gamer['Games']==g_user\n",
    "        param_2 = df_gamer[mask_3]['Hours'].sum()\n",
    "        if (param_2 >= param) :\n",
    "            val=1\n",
    "            df.loc[mask_2,'Like']= val\n",
    "        else:\n",
    "            df.loc[mask_2,'Like']= 0"
   ]
  },
  {
   "cell_type": "code",
   "execution_count": 23,
   "id": "be31fba9",
   "metadata": {},
   "outputs": [],
   "source": [
    "#df.to_csv('like.csv')"
   ]
  },
  {
   "cell_type": "code",
   "execution_count": 55,
   "id": "b0933cff",
   "metadata": {},
   "outputs": [],
   "source": [
    "# valutare lo score fra 3 e 5 \n",
    "for g in gamers:\n",
    "    mask_gamer=(df['UserID']== g) & (df['Like'] == 1) & (df['Action'] == 'play')\n",
    "    df_gamer=df[mask_gamer].sort_values('PersonalOrder', ascending=True)\n",
    "    df1, df2, df3 = np.array_split(df_gamer, 3)\n",
    "    list_1 = df1.Games.unique()\n",
    "    list_2 = df2.Games.unique()\n",
    "    list_3 = df3.Games.unique()\n",
    "    for game in list_1:\n",
    "        mask_2= ((df['UserID']== g) & (df['Games']== game))\n",
    "        df.loc[mask_2,'Score']= 5\n",
    "    for game_2 in list_2:  \n",
    "        mask_2= ((df['UserID']== g) & (df['Games']== game_2))\n",
    "        df.loc[mask_2,'Score']= 4\n",
    "    for game_3 in list_3:  \n",
    "        mask_2= ((df['UserID']== g) & (df['Games']== game_3))\n",
    "        df.loc[mask_2,'Score']= 3\n"
   ]
  },
  {
   "cell_type": "code",
   "execution_count": 70,
   "id": "08f5ac6e",
   "metadata": {},
   "outputs": [],
   "source": [
    "# # valutare lo score fra 1 e 2 \n",
    "for g in gamers:\n",
    "    mask_gamer=(df['UserID']== g) & (df['Like'] == 0) & (df['Action'] == 'play')\n",
    "    df_gamer=df[mask_gamer].sort_values('PersonalOrder', ascending=True)\n",
    "    list_1 = df_gamer.Games.unique()\n",
    "    for n in list_1:\n",
    "        mask_giocho= df_gamer['Games']==n \n",
    "        h=df_gamer[mask_giocho]['Hours'].min()\n",
    "        mask_2= ((df['UserID']== g) & (df['Games']== n))\n",
    "        if(h <= 1 ):\n",
    "            df.loc[mask_2,'Score']= 1\n",
    "        else:\n",
    "             df.loc[mask_2,'Score']= 2\n",
    "    \n",
    "\n"
   ]
  },
  {
   "cell_type": "code",
   "execution_count": 75,
   "id": "a2f1e66b",
   "metadata": {},
   "outputs": [],
   "source": [
    "# df.to_csv('stream_finale.csv',index=False)"
   ]
  },
  {
   "cell_type": "code",
   "execution_count": 8,
   "id": "d55e719d",
   "metadata": {},
   "outputs": [
    {
     "data": {
      "text/html": [
       "<div>\n",
       "<style scoped>\n",
       "    .dataframe tbody tr th:only-of-type {\n",
       "        vertical-align: middle;\n",
       "    }\n",
       "\n",
       "    .dataframe tbody tr th {\n",
       "        vertical-align: top;\n",
       "    }\n",
       "\n",
       "    .dataframe thead th {\n",
       "        text-align: right;\n",
       "    }\n",
       "</style>\n",
       "<table border=\"1\" class=\"dataframe\">\n",
       "  <thead>\n",
       "    <tr style=\"text-align: right;\">\n",
       "      <th></th>\n",
       "      <th>UserID</th>\n",
       "      <th>Games</th>\n",
       "      <th>Action</th>\n",
       "      <th>Hours</th>\n",
       "      <th>Others</th>\n",
       "      <th>PersonalOrder</th>\n",
       "      <th>Like</th>\n",
       "      <th>Score</th>\n",
       "    </tr>\n",
       "  </thead>\n",
       "  <tbody>\n",
       "    <tr>\n",
       "      <th>0</th>\n",
       "      <td>151603712</td>\n",
       "      <td>The Elder Scrolls V Skyrim</td>\n",
       "      <td>purchase</td>\n",
       "      <td>1.0</td>\n",
       "      <td>0</td>\n",
       "      <td>1.0</td>\n",
       "      <td>1.0</td>\n",
       "      <td>5.0</td>\n",
       "    </tr>\n",
       "    <tr>\n",
       "      <th>1</th>\n",
       "      <td>151603712</td>\n",
       "      <td>The Elder Scrolls V Skyrim</td>\n",
       "      <td>play</td>\n",
       "      <td>273.0</td>\n",
       "      <td>0</td>\n",
       "      <td>1.0</td>\n",
       "      <td>1.0</td>\n",
       "      <td>5.0</td>\n",
       "    </tr>\n",
       "    <tr>\n",
       "      <th>2</th>\n",
       "      <td>151603712</td>\n",
       "      <td>Fallout 4</td>\n",
       "      <td>purchase</td>\n",
       "      <td>1.0</td>\n",
       "      <td>0</td>\n",
       "      <td>2.0</td>\n",
       "      <td>1.0</td>\n",
       "      <td>5.0</td>\n",
       "    </tr>\n",
       "    <tr>\n",
       "      <th>3</th>\n",
       "      <td>151603712</td>\n",
       "      <td>Fallout 4</td>\n",
       "      <td>play</td>\n",
       "      <td>87.0</td>\n",
       "      <td>0</td>\n",
       "      <td>2.0</td>\n",
       "      <td>1.0</td>\n",
       "      <td>5.0</td>\n",
       "    </tr>\n",
       "    <tr>\n",
       "      <th>4</th>\n",
       "      <td>151603712</td>\n",
       "      <td>Spore</td>\n",
       "      <td>purchase</td>\n",
       "      <td>1.0</td>\n",
       "      <td>0</td>\n",
       "      <td>3.0</td>\n",
       "      <td>1.0</td>\n",
       "      <td>5.0</td>\n",
       "    </tr>\n",
       "  </tbody>\n",
       "</table>\n",
       "</div>"
      ],
      "text/plain": [
       "      UserID                       Games    Action  Hours  Others  \\\n",
       "0  151603712  The Elder Scrolls V Skyrim  purchase    1.0       0   \n",
       "1  151603712  The Elder Scrolls V Skyrim      play  273.0       0   \n",
       "2  151603712                   Fallout 4  purchase    1.0       0   \n",
       "3  151603712                   Fallout 4      play   87.0       0   \n",
       "4  151603712                       Spore  purchase    1.0       0   \n",
       "\n",
       "   PersonalOrder  Like  Score  \n",
       "0            1.0   1.0    5.0  \n",
       "1            1.0   1.0    5.0  \n",
       "2            2.0   1.0    5.0  \n",
       "3            2.0   1.0    5.0  \n",
       "4            3.0   1.0    5.0  "
      ]
     },
     "execution_count": 8,
     "metadata": {},
     "output_type": "execute_result"
    }
   ],
   "source": [
    "df_finale=pd.read_csv('stream_finale.csv')\n",
    "df_finale.head()"
   ]
  },
  {
   "cell_type": "code",
   "execution_count": 14,
   "id": "6b4e4845",
   "metadata": {},
   "outputs": [
    {
     "name": "stderr",
     "output_type": "stream",
     "text": [
      "C:\\Users\\moham\\AppData\\Local\\Temp/ipykernel_14204/2963568271.py:2: FutureWarning: Indexing with multiple keys (implicitly converted to a tuple of keys) will be deprecated, use a list instead.\n",
      "  df_games = df_finale.groupby(df_finale['Games'])['Hours','Score'].mean().sort_values(by='Score',ascending= False)\n"
     ]
    }
   ],
   "source": [
    "# un DF che aggrega i giochi con le ore giochate e lo score  \n",
    "df_games = df_finale.groupby(df_finale['Games'])['Hours','Score'].mean().sort_values(by='Score',ascending= False)"
   ]
  },
  {
   "cell_type": "code",
   "execution_count": 311,
   "id": "9d24d419",
   "metadata": {},
   "outputs": [],
   "source": [
    "# un DF per contare i numeri dei giocatori che hanno giocato un gioco \n",
    "df_ID= df_finale.groupby(df_finale['Games'])['UserID'].nunique()\n",
    "#df_ID = df_ID.to_frame()\n",
    "df_ID= df_ID.reset_index()"
   ]
  },
  {
   "cell_type": "code",
   "execution_count": 312,
   "id": "0db32517",
   "metadata": {},
   "outputs": [],
   "source": [
    "# un DF per contare le ore dei giocatori che hanno giocato un gioco \n",
    "df_Hours= df_finale.groupby(df_finale['Games'])['Hours'].sum()\n",
    "df_Hours= df_Hours.reset_index()"
   ]
  },
  {
   "cell_type": "code",
   "execution_count": 313,
   "id": "9702b8ff",
   "metadata": {},
   "outputs": [],
   "source": [
    "# un DF di passaggio \n",
    "result= pd.merge(df_games,df_ID ,how = 'inner',on='Games')"
   ]
  },
  {
   "cell_type": "code",
   "execution_count": 314,
   "id": "8e5a85a6",
   "metadata": {},
   "outputs": [],
   "source": [
    "# DF finale che contiene tutti dati \n",
    "result_finale= pd.merge(result,df_Hours,how = 'inner',on='Games')"
   ]
  },
  {
   "cell_type": "code",
   "execution_count": 315,
   "id": "9c54cd0b",
   "metadata": {},
   "outputs": [],
   "source": [
    "# ordinare per i giochi più popolare \n",
    "result_finale.sort_values(by='UserID',ascending=False,inplace= True)"
   ]
  },
  {
   "cell_type": "code",
   "execution_count": 316,
   "id": "76aefc97",
   "metadata": {},
   "outputs": [],
   "source": [
    "result_finale.set_index('Games', inplace=True)"
   ]
  },
  {
   "cell_type": "code",
   "execution_count": 317,
   "id": "635d1b34",
   "metadata": {},
   "outputs": [
    {
     "data": {
      "text/html": [
       "<div>\n",
       "<style scoped>\n",
       "    .dataframe tbody tr th:only-of-type {\n",
       "        vertical-align: middle;\n",
       "    }\n",
       "\n",
       "    .dataframe tbody tr th {\n",
       "        vertical-align: top;\n",
       "    }\n",
       "\n",
       "    .dataframe thead th {\n",
       "        text-align: right;\n",
       "    }\n",
       "</style>\n",
       "<table border=\"1\" class=\"dataframe\">\n",
       "  <thead>\n",
       "    <tr style=\"text-align: right;\">\n",
       "      <th></th>\n",
       "      <th>Hours_x</th>\n",
       "      <th>Score</th>\n",
       "      <th>UserID</th>\n",
       "      <th>Hours_y</th>\n",
       "    </tr>\n",
       "    <tr>\n",
       "      <th>Games</th>\n",
       "      <th></th>\n",
       "      <th></th>\n",
       "      <th></th>\n",
       "      <th></th>\n",
       "    </tr>\n",
       "  </thead>\n",
       "  <tbody>\n",
       "    <tr>\n",
       "      <th>Dota 2</th>\n",
       "      <td>101.892749</td>\n",
       "      <td>4.563520</td>\n",
       "      <td>4841</td>\n",
       "      <td>986525.6</td>\n",
       "    </tr>\n",
       "    <tr>\n",
       "      <th>Team Fortress 2</th>\n",
       "      <td>37.881253</td>\n",
       "      <td>3.716746</td>\n",
       "      <td>2323</td>\n",
       "      <td>175996.3</td>\n",
       "    </tr>\n",
       "    <tr>\n",
       "      <th>Unturned</th>\n",
       "      <td>6.709498</td>\n",
       "      <td>3.270346</td>\n",
       "      <td>1563</td>\n",
       "      <td>17659.4</td>\n",
       "    </tr>\n",
       "    <tr>\n",
       "      <th>Counter-Strike Global Offensive</th>\n",
       "      <td>116.236501</td>\n",
       "      <td>4.097313</td>\n",
       "      <td>1412</td>\n",
       "      <td>324183.6</td>\n",
       "    </tr>\n",
       "    <tr>\n",
       "      <th>Half-Life 2 Lost Coast</th>\n",
       "      <td>1.006390</td>\n",
       "      <td>1.451977</td>\n",
       "      <td>981</td>\n",
       "      <td>1165.4</td>\n",
       "    </tr>\n",
       "  </tbody>\n",
       "</table>\n",
       "</div>"
      ],
      "text/plain": [
       "                                    Hours_x     Score  UserID   Hours_y\n",
       "Games                                                                  \n",
       "Dota 2                           101.892749  4.563520    4841  986525.6\n",
       "Team Fortress 2                   37.881253  3.716746    2323  175996.3\n",
       "Unturned                           6.709498  3.270346    1563   17659.4\n",
       "Counter-Strike Global Offensive  116.236501  4.097313    1412  324183.6\n",
       "Half-Life 2 Lost Coast             1.006390  1.451977     981    1165.4"
      ]
     },
     "execution_count": 317,
     "metadata": {},
     "output_type": "execute_result"
    }
   ],
   "source": [
    "result_finale.head()"
   ]
  },
  {
   "cell_type": "code",
   "execution_count": 318,
   "id": "e513585a",
   "metadata": {},
   "outputs": [],
   "source": [
    "# rinomino le colonne per chiarezza \n",
    "result_finale.rename(columns={'Hours_x':'mean_Hours','UserID':'Total_players','Hours_y':'Total_Huors'},inplace = True)"
   ]
  },
  {
   "cell_type": "code",
   "execution_count": 319,
   "id": "c26e9e33",
   "metadata": {},
   "outputs": [
    {
     "data": {
      "text/plain": [
       "<AxesSubplot:xlabel='Games'>"
      ]
     },
     "execution_count": 319,
     "metadata": {},
     "output_type": "execute_result"
    },
    {
     "data": {
      "image/png": "[encoded data removed]",
      "text/plain": [
       "<Figure size 576x432 with 1 Axes>"
      ]
     },
     "metadata": {
      "needs_background": "light"
     },
     "output_type": "display_data"
    }
   ],
   "source": [
    "# I giochi con più giocatori \n",
    "result_finale[:20].plot(kind='bar', log=True, figsize=(8,6))"
   ]
  },
  {
   "cell_type": "code",
   "execution_count": 320,
   "id": "f8f18e55",
   "metadata": {},
   "outputs": [
    {
     "name": "stdout",
     "output_type": "stream",
     "text": [
      "Number of gamers : 12393\n",
      "Number of games : 5155\n",
      "Number of games purchased : 128804\n",
      "Number of games played : 70489\n"
     ]
    }
   ],
   "source": [
    "print('Number of gamers : {}'.format(len(df_finale.UserID.unique())))\n",
    "print('Number of games : {}'.format(len(df_finale.Games.unique())))\n",
    "print('Number of games purchased : {}'.format(len(df_finale.loc[df_finale['Action']=='purchase'])))\n",
    "print('Number of games played : {}'.format(len(df_finale[df_finale['Action']=='play'])))"
   ]
  },
  {
   "cell_type": "code",
   "execution_count": 321,
   "id": "e1ec58a5",
   "metadata": {},
   "outputs": [],
   "source": [
    "# Algoritmo per raccomandare i giochi \n",
    "def racomand(user):\n",
    "        # trovare gli utenti con lo stesso gusto \n",
    "        users=[]\n",
    "        found_games=[]\n",
    "        \n",
    "        # trovare i giochi preferiti per l'utente \n",
    "        mask_u = ((df_finale['UserID']== user) & (df_finale['Like']== 1) & (df_finale['Score']>= 3) & (df_finale['PersonalOrder']<= 5))\n",
    "        u_games=df_finale[mask_u]['Games'].unique()\n",
    "        u_games = u_games.tolist()\n",
    "        # Salvo tutti i giochi per l'utente per non suggerire duppione \n",
    "        mask_u_totale = (df_finale['UserID']== user) \n",
    "        to_delete = df_finale[mask_u_totale]['Games'].unique().tolist()\n",
    "        \n",
    "        # utenti a cui piaciano gli stessi giochi di user\n",
    "        for g in u_games:\n",
    "            mask_g = ((df_finale['Games']== g) & (df_finale['Like']== 1) & (df_finale['Score']>= 3) & (df_finale['PersonalOrder']<= 5))\n",
    "            u = df_finale[mask_g]['UserID'].unique().tolist()\n",
    "            users += u\n",
    "            \n",
    "        # creare una lista con gli utenti trovati \n",
    "        users =  remove_duplicates(users)\n",
    "        \n",
    "        # trovare i giochi preferiti per ogni utente \n",
    "        for u in users :\n",
    "            mask_u_2= ((df_finale['UserID']== u) & (df_finale['Like']== 1) & (df_finale['Score']>= 3) & (df_finale['PersonalOrder']<= 5))\n",
    "            f_g= df_finale[mask_u_2]['Games'].unique().tolist()\n",
    "            found_games += f_g\n",
    "\n",
    "        found_games = remove_duplicates(found_games)\n",
    "        # Toglgo dei lista dei consegliati i giochi che l'utente ha già\n",
    "        to_racomand= compare(found_games,to_delete)\n",
    "        # Prendo i primi 10 giochi migliori da consegliare all'utente \n",
    "        to_racomand =  pd.DataFrame (to_racomand, columns = ['Games'])\n",
    "        df_racomand = pd.merge(result_finale, to_racomand,how ='inner',on='Games')\n",
    "        # Riordinare i giochi secondo Total_players\n",
    "        Racomanded_Games = df_racomand.sort_values(by='Total_players',ascending=False)[:10]\n",
    "        # Risultato \n",
    "        return print(Racomanded_Games[['Games','Score','Total_players']])"
   ]
  },
  {
   "cell_type": "code",
   "execution_count": 333,
   "id": "7517c7be",
   "metadata": {},
   "outputs": [
    {
     "name": "stdout",
     "output_type": "stream",
     "text": [
      "                           Games     Score  Total_players\n",
      "0                         Dota 2  4.563520           4841\n",
      "1                       Unturned  3.270346           1563\n",
      "2          Counter-Strike Source  3.681119            978\n",
      "3                 Counter-Strike  3.718310            856\n",
      "4                       Warframe  3.056604            847\n",
      "5                    Garry's Mod  3.566066            731\n",
      "6                      Robocraft  2.818182            689\n",
      "7  Counter-Strike Condition Zero  2.613333            679\n",
      "8              Heroes & Generals  2.295522            658\n",
      "9                    War Thunder  2.887789            590\n"
     ]
    }
   ],
   "source": [
    "racomand(39622853)"
   ]
  },
  {
   "cell_type": "code",
   "execution_count": 334,
   "id": "bfc5476b",
   "metadata": {},
   "outputs": [
    {
     "data": {
      "text/html": [
       "<div>\n",
       "<style scoped>\n",
       "    .dataframe tbody tr th:only-of-type {\n",
       "        vertical-align: middle;\n",
       "    }\n",
       "\n",
       "    .dataframe tbody tr th {\n",
       "        vertical-align: top;\n",
       "    }\n",
       "\n",
       "    .dataframe thead th {\n",
       "        text-align: right;\n",
       "    }\n",
       "</style>\n",
       "<table border=\"1\" class=\"dataframe\">\n",
       "  <thead>\n",
       "    <tr style=\"text-align: right;\">\n",
       "      <th></th>\n",
       "      <th>UserID</th>\n",
       "      <th>Games</th>\n",
       "      <th>Action</th>\n",
       "      <th>Hours</th>\n",
       "      <th>Others</th>\n",
       "      <th>PersonalOrder</th>\n",
       "      <th>Like</th>\n",
       "      <th>Score</th>\n",
       "    </tr>\n",
       "  </thead>\n",
       "  <tbody>\n",
       "    <tr>\n",
       "      <th>28401</th>\n",
       "      <td>39622853</td>\n",
       "      <td>The Witcher 3 Wild Hunt</td>\n",
       "      <td>purchase</td>\n",
       "      <td>1.0</td>\n",
       "      <td>0</td>\n",
       "      <td>1.0</td>\n",
       "      <td>1.0</td>\n",
       "      <td>5.0</td>\n",
       "    </tr>\n",
       "    <tr>\n",
       "      <th>28402</th>\n",
       "      <td>39622853</td>\n",
       "      <td>The Witcher 3 Wild Hunt</td>\n",
       "      <td>play</td>\n",
       "      <td>125.0</td>\n",
       "      <td>0</td>\n",
       "      <td>1.0</td>\n",
       "      <td>1.0</td>\n",
       "      <td>5.0</td>\n",
       "    </tr>\n",
       "    <tr>\n",
       "      <th>28403</th>\n",
       "      <td>39622853</td>\n",
       "      <td>PAYDAY 2</td>\n",
       "      <td>purchase</td>\n",
       "      <td>1.0</td>\n",
       "      <td>0</td>\n",
       "      <td>2.0</td>\n",
       "      <td>1.0</td>\n",
       "      <td>5.0</td>\n",
       "    </tr>\n",
       "    <tr>\n",
       "      <th>28404</th>\n",
       "      <td>39622853</td>\n",
       "      <td>PAYDAY 2</td>\n",
       "      <td>play</td>\n",
       "      <td>118.0</td>\n",
       "      <td>0</td>\n",
       "      <td>2.0</td>\n",
       "      <td>1.0</td>\n",
       "      <td>5.0</td>\n",
       "    </tr>\n",
       "    <tr>\n",
       "      <th>28405</th>\n",
       "      <td>39622853</td>\n",
       "      <td>Team Fortress 2</td>\n",
       "      <td>purchase</td>\n",
       "      <td>1.0</td>\n",
       "      <td>0</td>\n",
       "      <td>3.0</td>\n",
       "      <td>1.0</td>\n",
       "      <td>5.0</td>\n",
       "    </tr>\n",
       "  </tbody>\n",
       "</table>\n",
       "</div>"
      ],
      "text/plain": [
       "         UserID                    Games    Action  Hours  Others  \\\n",
       "28401  39622853  The Witcher 3 Wild Hunt  purchase    1.0       0   \n",
       "28402  39622853  The Witcher 3 Wild Hunt      play  125.0       0   \n",
       "28403  39622853                 PAYDAY 2  purchase    1.0       0   \n",
       "28404  39622853                 PAYDAY 2      play  118.0       0   \n",
       "28405  39622853          Team Fortress 2  purchase    1.0       0   \n",
       "\n",
       "       PersonalOrder  Like  Score  \n",
       "28401            1.0   1.0    5.0  \n",
       "28402            1.0   1.0    5.0  \n",
       "28403            2.0   1.0    5.0  \n",
       "28404            2.0   1.0    5.0  \n",
       "28405            3.0   1.0    5.0  "
      ]
     },
     "execution_count": 334,
     "metadata": {},
     "output_type": "execute_result"
    }
   ],
   "source": [
    "mask= (df_finale['UserID']==39622853)\n",
    "df_finale[mask].sort_values(by='PersonalOrder')[:5]"
   ]
  },
  {
   "cell_type": "code",
   "execution_count": 332,
   "id": "ef28da0b",
   "metadata": {},
   "outputs": [
    {
     "data": {
      "text/html": [
       "<div>\n",
       "<style scoped>\n",
       "    .dataframe tbody tr th:only-of-type {\n",
       "        vertical-align: middle;\n",
       "    }\n",
       "\n",
       "    .dataframe tbody tr th {\n",
       "        vertical-align: top;\n",
       "    }\n",
       "\n",
       "    .dataframe thead th {\n",
       "        text-align: right;\n",
       "    }\n",
       "</style>\n",
       "<table border=\"1\" class=\"dataframe\">\n",
       "  <thead>\n",
       "    <tr style=\"text-align: right;\">\n",
       "      <th></th>\n",
       "      <th>UserID</th>\n",
       "      <th>Games</th>\n",
       "      <th>Action</th>\n",
       "      <th>Hours</th>\n",
       "      <th>Others</th>\n",
       "      <th>PersonalOrder</th>\n",
       "      <th>Like</th>\n",
       "      <th>Score</th>\n",
       "    </tr>\n",
       "  </thead>\n",
       "  <tbody>\n",
       "    <tr>\n",
       "      <th>28532</th>\n",
       "      <td>39622853</td>\n",
       "      <td>The Walking Dead</td>\n",
       "      <td>play</td>\n",
       "      <td>4.7</td>\n",
       "      <td>0</td>\n",
       "      <td>67.0</td>\n",
       "      <td>0.0</td>\n",
       "      <td>2.0</td>\n",
       "    </tr>\n",
       "  </tbody>\n",
       "</table>\n",
       "</div>"
      ],
      "text/plain": [
       "         UserID             Games Action  Hours  Others  PersonalOrder  Like  \\\n",
       "28532  39622853  The Walking Dead   play    4.7       0           67.0   0.0   \n",
       "\n",
       "       Score  \n",
       "28532    2.0  "
      ]
     },
     "execution_count": 332,
     "metadata": {},
     "output_type": "execute_result"
    }
   ],
   "source": [
    "df_finale.sample()"
   ]
  },
  {
   "cell_type": "code",
   "execution_count": null,
   "id": "56fd3817",
   "metadata": {},
   "outputs": [],
   "source": []
  }
 ],
 "metadata": {
  "kernelspec": {
   "display_name": "Python 3 (ipykernel)",
   "language": "python",
   "name": "python3"
  },
  "language_info": {
   "codemirror_mode": {
    "name": "ipython",
    "version": 3
   },
   "file_extension": ".py",
   "mimetype": "text/x-python",
   "name": "python",
   "nbconvert_exporter": "python",
   "pygments_lexer": "ipython3",
   "version": "3.9.7"
  }
 },
 "nbformat": 4,
 "nbformat_minor": 5
}
